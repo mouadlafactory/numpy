{
 "cells": [
  {
   "cell_type": "code",
   "execution_count": 1,
   "id": "12ec837c",
   "metadata": {},
   "outputs": [],
   "source": [
    "\n",
    "import numpy as np"
   ]
  },
  {
   "cell_type": "code",
   "execution_count": 2,
   "id": "fddc64f4",
   "metadata": {},
   "outputs": [
    {
     "data": {
      "text/plain": [
       "array([[1, 2, 3],\n",
       "       [4, 5, 6]])"
      ]
     },
     "execution_count": 2,
     "metadata": {},
     "output_type": "execute_result"
    }
   ],
   "source": [
    "stats = np.array([[1,2,3],[4,5,6]])\n",
    "stats"
   ]
  },
  {
   "cell_type": "code",
   "execution_count": 4,
   "id": "a0683d80",
   "metadata": {},
   "outputs": [
    {
     "name": "stdout",
     "output_type": "stream",
     "text": [
      "1\n"
     ]
    }
   ],
   "source": [
    "print(np.min(stats))"
   ]
  },
  {
   "cell_type": "code",
   "execution_count": 6,
   "id": "a4424207",
   "metadata": {},
   "outputs": [
    {
     "data": {
      "text/plain": [
       "array([1, 4])"
      ]
     },
     "execution_count": 6,
     "metadata": {},
     "output_type": "execute_result"
    }
   ],
   "source": [
    "np.min(stats, axis=1)"
   ]
  },
  {
   "cell_type": "code",
   "execution_count": 7,
   "id": "c7e4c3b9",
   "metadata": {},
   "outputs": [
    {
     "data": {
      "text/plain": [
       "array([1, 2, 3])"
      ]
     },
     "execution_count": 7,
     "metadata": {},
     "output_type": "execute_result"
    }
   ],
   "source": [
    "np.min(stats, axis=0)"
   ]
  },
  {
   "cell_type": "code",
   "execution_count": 8,
   "id": "682ee197",
   "metadata": {},
   "outputs": [
    {
     "data": {
      "text/plain": [
       "array([3, 6])"
      ]
     },
     "execution_count": 8,
     "metadata": {},
     "output_type": "execute_result"
    }
   ],
   "source": [
    "np.max(stats, axis=1)"
   ]
  },
  {
   "cell_type": "code",
   "execution_count": 11,
   "id": "d3dfd5bd",
   "metadata": {},
   "outputs": [
    {
     "name": "stdout",
     "output_type": "stream",
     "text": [
      "21\n"
     ]
    }
   ],
   "source": [
    "print(np.sum(stats))\n"
   ]
  },
  {
   "cell_type": "code",
   "execution_count": 14,
   "id": "94781105",
   "metadata": {},
   "outputs": [
    {
     "name": "stdout",
     "output_type": "stream",
     "text": [
      "Avg Score: 14.125\n",
      "Best Score: 19\n",
      "Lowest Score: 9\n",
      "Median Score: 14.5\n",
      "Std Dev: 3.370367190678191\n"
     ]
    }
   ],
   "source": [
    "# Students scores\n",
    "scores = np.array([10, 14, 12, 18, 16, 15, 9, 19])\n",
    "\n",
    "print(\"Avg Score:\", np.mean(scores))\n",
    "print(\"Best Score:\", np.max(scores))\n",
    "print(\"Lowest Score:\", np.min(scores))\n",
    "print(\"Median Score:\", np.median(scores))\n",
    "print(\"Std Dev:\", np.std(scores))"
   ]
  },
  {
   "cell_type": "markdown",
   "id": "fbad224f",
   "metadata": {},
   "source": [
    "| Function   | Purpose             |\n",
    "| ---------- | ------------------- |\n",
    "| `sum()`    | Total of all values |\n",
    "| `mean()`   | Average             |\n",
    "| `min()`    | Smallest value      |\n",
    "| `max()`    | Largest value       |\n",
    "| `median()` | Middle value        |\n",
    "| `std()`    | Spread / variation  |\n"
   ]
  }
 ],
 "metadata": {
  "kernelspec": {
   "display_name": "Python 3 (ipykernel)",
   "language": "python",
   "name": "python3"
  },
  "language_info": {
   "codemirror_mode": {
    "name": "ipython",
    "version": 3
   },
   "file_extension": ".py",
   "mimetype": "text/x-python",
   "name": "python",
   "nbconvert_exporter": "python",
   "pygments_lexer": "ipython3",
   "version": "3.13.0"
  }
 },
 "nbformat": 4,
 "nbformat_minor": 5
}
