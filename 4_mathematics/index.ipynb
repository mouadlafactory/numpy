{
 "cells": [
  {
   "cell_type": "code",
   "execution_count": 1,
   "id": "b9893b6d",
   "metadata": {},
   "outputs": [],
   "source": [
    "\n",
    "import numpy as np"
   ]
  },
  {
   "cell_type": "code",
   "execution_count": 2,
   "id": "a99410e4",
   "metadata": {},
   "outputs": [
    {
     "name": "stdout",
     "output_type": "stream",
     "text": [
      "[1 2 3 4]\n"
     ]
    }
   ],
   "source": [
    "a = np.array([1,2,3,4])\n",
    "print(a)"
   ]
  },
  {
   "cell_type": "code",
   "execution_count": 3,
   "id": "35fc4b93",
   "metadata": {},
   "outputs": [
    {
     "data": {
      "text/plain": [
       "array([3, 4, 5, 6])"
      ]
     },
     "execution_count": 3,
     "metadata": {},
     "output_type": "execute_result"
    }
   ],
   "source": [
    "a + 2"
   ]
  },
  {
   "cell_type": "code",
   "execution_count": 4,
   "id": "896923e5",
   "metadata": {},
   "outputs": [
    {
     "data": {
      "text/plain": [
       "array([-1,  0,  1,  2])"
      ]
     },
     "execution_count": 4,
     "metadata": {},
     "output_type": "execute_result"
    }
   ],
   "source": [
    "a - 2"
   ]
  },
  {
   "cell_type": "code",
   "execution_count": 5,
   "id": "096be7a8",
   "metadata": {},
   "outputs": [
    {
     "data": {
      "text/plain": [
       "array([2, 4, 6, 8])"
      ]
     },
     "execution_count": 5,
     "metadata": {},
     "output_type": "execute_result"
    }
   ],
   "source": [
    "a * 2"
   ]
  },
  {
   "cell_type": "code",
   "execution_count": 6,
   "id": "e5854cab",
   "metadata": {},
   "outputs": [
    {
     "data": {
      "text/plain": [
       "array([0.5, 1. , 1.5, 2. ])"
      ]
     },
     "execution_count": 6,
     "metadata": {},
     "output_type": "execute_result"
    }
   ],
   "source": [
    "a / 2"
   ]
  },
  {
   "cell_type": "markdown",
   "id": "537f8f35",
   "metadata": {},
   "source": [
    "![Matrix](https://screendy-cdn.fra1.cdn.digitaloceanspaces.com/platfrom-v2/_files/file_1761610457653_Oct282025Screenshot4.png)"
   ]
  },
  {
   "cell_type": "markdown",
   "id": "50d8455f",
   "metadata": {},
   "source": [
    "![](https://screendy-cdn.fra1.cdn.digitaloceanspaces.com/platfrom-v2/_files/file_1761610527330_Width1600.webp)"
   ]
  },
  {
   "cell_type": "markdown",
   "id": "90b142fc",
   "metadata": {},
   "source": [
    "![](https://screendy-cdn.fra1.cdn.digitaloceanspaces.com/platfrom-v2/_files/file_1761613307905_Oct282025Screenshot5.png)"
   ]
  },
  {
   "cell_type": "markdown",
   "id": "ea9d7c4f",
   "metadata": {},
   "source": [
    "![](https://screendy-cdn.fra1.cdn.digitaloceanspaces.com/platfrom-v2/_files/file_1761613763474_Screenshot2025-10-28at020901.png)"
   ]
  },
  {
   "cell_type": "markdown",
   "id": "2e26019a",
   "metadata": {},
   "source": [
    "https://www.youtube.com/watch?v=rHLEWRxRGiM"
   ]
  },
  {
   "cell_type": "code",
   "execution_count": 7,
   "id": "97b8297d",
   "metadata": {},
   "outputs": [],
   "source": [
    "revenue = np.array([[180,200,220],[24,36,40],[12,18,20]])\n",
    "expenses = np.array([[80,90,100],[10,16,20],[8,10,10]])"
   ]
  },
  {
   "cell_type": "code",
   "execution_count": 8,
   "id": "dd4e408f",
   "metadata": {},
   "outputs": [
    {
     "data": {
      "text/plain": [
       "array([[100, 110, 120],\n",
       "       [ 14,  20,  20],\n",
       "       [  4,   8,  10]])"
      ]
     },
     "execution_count": 8,
     "metadata": {},
     "output_type": "execute_result"
    }
   ],
   "source": [
    "# Calculate profit by subtracting expenses from revenue\n",
    "profit = revenue - expenses\n",
    "profit"
   ]
  },
  {
   "cell_type": "code",
   "execution_count": 10,
   "id": "744a43f5",
   "metadata": {},
   "outputs": [
    {
     "name": "stdout",
     "output_type": "stream",
     "text": [
      "[[30000 16000 60000]\n",
      " [ 5000  4000 18000]\n",
      " [ 2000  2000  8400]]\n"
     ]
    }
   ],
   "source": [
    "# Calculate total sales from units and price per unit using broadcasting\n",
    "price_per_unit = np.array([1000, 400, 1200])\n",
    "units = np.array([[30,40,50],[5,10,15],[2,5,7]])\n",
    "print(units * price_per_unit)"
   ]
  },
  {
   "cell_type": "code",
   "execution_count": 11,
   "id": "0978c548",
   "metadata": {},
   "outputs": [
    {
     "data": {
      "text/plain": [
       "array([34400, 50000, 64400])"
      ]
     },
     "execution_count": 11,
     "metadata": {},
     "output_type": "execute_result"
    }
   ],
   "source": [
    "# Correct way is matrix multiplication using dot product\n",
    "total_sales = np.dot(price_per_unit, units)\n",
    "total_sales"
   ]
  },
  {
   "cell_type": "markdown",
   "id": "ae09a7b5",
   "metadata": {},
   "source": [
    "| Concept                         | Meaning                                        |\n",
    "| ------------------------------- | ---------------------------------------------- |\n",
    "| `profit = revenue - expenses`   | Element-wise subtraction                       |\n",
    "| `price_per_unit * units`        | Broadcasting (wrong for matrix multiplication) |\n",
    "| `np.dot(price_per_unit, units)` | Real matrix multiplication (correct)           |\n"
   ]
  },
  {
   "cell_type": "code",
   "execution_count": null,
   "id": "12c6dbaf",
   "metadata": {},
   "outputs": [
    {
     "name": "stdout",
     "output_type": "stream",
     "text": [
      "[[1. 1. 1.]\n",
      " [1. 1. 1.]]\n",
      "[[2 2]\n",
      " [2 2]\n",
      " [2 2]]\n",
      "[[6. 6.]\n",
      " [6. 6.]]\n"
     ]
    }
   ],
   "source": [
    "a = np.ones((2,3))\n",
    "print(a)\n",
    "\n",
    "b = np.full((3,2), 2)\n",
    "print(b)\n",
    "\n",
    "print(np.matmul(a,b))"
   ]
  },
  {
   "cell_type": "code",
   "execution_count": 16,
   "id": "56ea8460",
   "metadata": {},
   "outputs": [],
   "source": [
    "A = np.array([[1,2],[3,4]])\n",
    "B = np.array([[5,6],[7,8]]) "
   ]
  },
  {
   "cell_type": "code",
   "execution_count": 18,
   "id": "7ddab98c",
   "metadata": {},
   "outputs": [
    {
     "name": "stdout",
     "output_type": "stream",
     "text": [
      "[[1 2]\n",
      " [3 4]]\n",
      "[[5 6]\n",
      " [7 8]]\n",
      "A@B:  [[19 22]\n",
      " [43 50]]\n",
      "np.matmul(A,B):  [[19 22]\n",
      " [43 50]]\n",
      "np.dot(A,B):  [[19 22]\n",
      " [43 50]]\n"
     ]
    }
   ],
   "source": [
    "print(A)\n",
    "print(B)\n",
    "print(\"A@B: \", A@B)\n",
    "print(\"np.matmul(A,B): \", np.matmul(A,B))\n",
    "print(\"np.dot(A,B): \", np.dot(A,B))\n",
    "\n"
   ]
  },
  {
   "cell_type": "code",
   "execution_count": 24,
   "id": "b8d97c69",
   "metadata": {},
   "outputs": [
    {
     "name": "stdout",
     "output_type": "stream",
     "text": [
      "[[[1. 1. 1.]\n",
      "  [1. 1. 1.]]\n",
      "\n",
      " [[1. 1. 1.]\n",
      "  [1. 1. 1.]]\n",
      "\n",
      " [[1. 1. 1.]\n",
      "  [1. 1. 1.]]]\n",
      "----------\n",
      "[[[2 2]\n",
      "  [2 2]\n",
      "  [2 2]]\n",
      "\n",
      " [[2 2]\n",
      "  [2 2]\n",
      "  [2 2]]\n",
      "\n",
      " [[2 2]\n",
      "  [2 2]\n",
      "  [2 2]]]\n"
     ]
    }
   ],
   "source": [
    "A = np.ones((3, 2, 3))      # 3 matrices, each 2x3\n",
    "B = np.full((3, 3, 2), 2)  \n",
    "print(A)\n",
    "print(\"-\"*10)\n",
    "print(B)\n",
    "\n"
   ]
  },
  {
   "cell_type": "code",
   "execution_count": 25,
   "id": "f2ec5995",
   "metadata": {},
   "outputs": [
    {
     "name": "stdout",
     "output_type": "stream",
     "text": [
      "----------\n",
      "[[[6. 6.]\n",
      "  [6. 6.]]\n",
      "\n",
      " [[6. 6.]\n",
      "  [6. 6.]]\n",
      "\n",
      " [[6. 6.]\n",
      "  [6. 6.]]]\n"
     ]
    }
   ],
   "source": [
    "print(\"-\"*10)\n",
    "print(np.matmul(A,B))"
   ]
  },
  {
   "cell_type": "code",
   "execution_count": 26,
   "id": "56c3eaf4",
   "metadata": {},
   "outputs": [
    {
     "name": "stdout",
     "output_type": "stream",
     "text": [
      "----------\n",
      "[[[6. 6.]\n",
      "  [6. 6.]]\n",
      "\n",
      " [[6. 6.]\n",
      "  [6. 6.]]\n",
      "\n",
      " [[6. 6.]\n",
      "  [6. 6.]]]\n"
     ]
    }
   ],
   "source": [
    "print(\"-\"*10)\n",
    "print(A@B)\n"
   ]
  },
  {
   "cell_type": "code",
   "execution_count": 31,
   "id": "c1fcd110",
   "metadata": {},
   "outputs": [
    {
     "name": "stdout",
     "output_type": "stream",
     "text": [
      "[[1. 0. 0.]\n",
      " [0. 1. 0.]\n",
      " [0. 0. 1.]]\n",
      "----------\n",
      "1.0\n"
     ]
    }
   ],
   "source": [
    "\n",
    "c = np.identity(3)\n",
    "print(c)\n",
    "print(\"-\"*10)\n",
    "# Find the determinant\n",
    "print(np.linalg.det(c))\n",
    "\n",
    "\n"
   ]
  }
 ],
 "metadata": {
  "kernelspec": {
   "display_name": "Python 3 (ipykernel)",
   "language": "python",
   "name": "python3"
  },
  "language_info": {
   "codemirror_mode": {
    "name": "ipython",
    "version": 3
   },
   "file_extension": ".py",
   "mimetype": "text/x-python",
   "name": "python",
   "nbconvert_exporter": "python",
   "pygments_lexer": "ipython3",
   "version": "3.13.0"
  }
 },
 "nbformat": 4,
 "nbformat_minor": 5
}
